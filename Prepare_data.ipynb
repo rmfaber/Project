{
 "cells": [
  {
   "cell_type": "code",
   "execution_count": 61,
   "metadata": {},
   "outputs": [],
   "source": [
    "import pandas as pd\n",
    "import geopandas as gpd\n",
    "import requests"
   ]
  },
  {
   "cell_type": "code",
   "execution_count": 64,
   "metadata": {},
   "outputs": [],
   "source": [
    "def get_data(data_url: str, cbs = False):\n",
    "    \"\"\"Function to retrieve datasets from the internet\n",
    "\n",
    "    Parameters\n",
    "    ----------\n",
    "    data_url : string\n",
    "        The url that points to the dataset\n",
    "\n",
    "    cbs: bool\n",
    "        Whether the data is hosted by CBS\n",
    "\n",
    "    Returns\n",
    "    -------\n",
    "    pd.DataFrame\n",
    "        Dataframe containing data retrieved from data_url\n",
    "    \"\"\"    \n",
    "    data = pd.DataFrame()\n",
    "    if cbs:\n",
    "        while data_url:\n",
    "            r = requests.get(data_url).json()\n",
    "            data = data.append(pd.DataFrame(r['value']))\n",
    "            \n",
    "            if '@odata.nextLink' in r:\n",
    "                data_url = r['@odata.nextLink']\n",
    "            else:\n",
    "                data_url = None\n",
    "    else:\n",
    "        r = requests.get(data_url).json()\n",
    "        data = data.append(pd.DataFrame(r))\n",
    "    return data"
   ]
  },
  {
   "cell_type": "code",
   "execution_count": 65,
   "metadata": {},
   "outputs": [],
   "source": [
    "covid19_link = 'https://data.rivm.nl/covid-19/COVID-19_aantallen_gemeente_cumulatief.json'\n",
    "cbs_link = \"https://beta-odata4.cbs.nl/CBS/70072ned\"\n"
   ]
  },
  {
   "cell_type": "code",
   "execution_count": 6,
   "metadata": {},
   "outputs": [],
   "source": [
    "covid19_df = get_data(covid19_link)\n",
    "covid19_df.to_csv('Data/COVID_19_cumulatief.csv')"
   ]
  },
  {
   "cell_type": "code",
   "execution_count": 69,
   "metadata": {},
   "outputs": [],
   "source": [
    "# Filter to only download municipality data\n",
    "cbs_kerncijfers = get_data(f\"{cbs_link}/Observations?$filter=startswith(RegioS, 'GM') and startswith(Perioden, '202')\", cbs=True)\n",
    "\n",
    "# Collect CBS metadata\n",
    "groups = get_data(cbs_link + \"/MeasureGroups\", cbs = True)\n",
    "codes = get_data(cbs_link + \"/MeasureCodes\", cbs=True)"
   ]
  },
  {
   "cell_type": "code",
   "execution_count": 68,
   "metadata": {},
   "outputs": [
    {
     "data": {
      "text/html": [
       "<div>\n",
       "<style scoped>\n",
       "    .dataframe tbody tr th:only-of-type {\n",
       "        vertical-align: middle;\n",
       "    }\n",
       "\n",
       "    .dataframe tbody tr th {\n",
       "        vertical-align: top;\n",
       "    }\n",
       "\n",
       "    .dataframe thead th {\n",
       "        text-align: right;\n",
       "    }\n",
       "</style>\n",
       "<table border=\"1\" class=\"dataframe\">\n",
       "  <thead>\n",
       "    <tr style=\"text-align: right;\">\n",
       "      <th></th>\n",
       "      <th>Id</th>\n",
       "      <th>Measure</th>\n",
       "      <th>ValueAttribute</th>\n",
       "      <th>Value</th>\n",
       "      <th>RegioS</th>\n",
       "      <th>Perioden</th>\n",
       "    </tr>\n",
       "  </thead>\n",
       "  <tbody>\n",
       "    <tr>\n",
       "      <th>0</th>\n",
       "      <td>375789</td>\n",
       "      <td>M000352_3</td>\n",
       "      <td>Impossible</td>\n",
       "      <td>NaN</td>\n",
       "      <td>GM1680</td>\n",
       "      <td>1995JJ00</td>\n",
       "    </tr>\n",
       "    <tr>\n",
       "      <th>1</th>\n",
       "      <td>375790</td>\n",
       "      <td>3000</td>\n",
       "      <td>Impossible</td>\n",
       "      <td>NaN</td>\n",
       "      <td>GM1680</td>\n",
       "      <td>1995JJ00</td>\n",
       "    </tr>\n",
       "    <tr>\n",
       "      <th>2</th>\n",
       "      <td>375791</td>\n",
       "      <td>4000</td>\n",
       "      <td>Impossible</td>\n",
       "      <td>NaN</td>\n",
       "      <td>GM1680</td>\n",
       "      <td>1995JJ00</td>\n",
       "    </tr>\n",
       "    <tr>\n",
       "      <th>3</th>\n",
       "      <td>375792</td>\n",
       "      <td>40000_1</td>\n",
       "      <td>Impossible</td>\n",
       "      <td>NaN</td>\n",
       "      <td>GM1680</td>\n",
       "      <td>1995JJ00</td>\n",
       "    </tr>\n",
       "    <tr>\n",
       "      <th>4</th>\n",
       "      <td>375793</td>\n",
       "      <td>70200_1</td>\n",
       "      <td>Impossible</td>\n",
       "      <td>NaN</td>\n",
       "      <td>GM1680</td>\n",
       "      <td>1995JJ00</td>\n",
       "    </tr>\n",
       "    <tr>\n",
       "      <th>...</th>\n",
       "      <td>...</td>\n",
       "      <td>...</td>\n",
       "      <td>...</td>\n",
       "      <td>...</td>\n",
       "      <td>...</td>\n",
       "      <td>...</td>\n",
       "    </tr>\n",
       "    <tr>\n",
       "      <th>6998</th>\n",
       "      <td>5282787</td>\n",
       "      <td>A045820_3</td>\n",
       "      <td>Impossible</td>\n",
       "      <td>NaN</td>\n",
       "      <td>GM0193</td>\n",
       "      <td>2021JJ00</td>\n",
       "    </tr>\n",
       "    <tr>\n",
       "      <th>6999</th>\n",
       "      <td>5282788</td>\n",
       "      <td>A045823_3</td>\n",
       "      <td>Impossible</td>\n",
       "      <td>NaN</td>\n",
       "      <td>GM0193</td>\n",
       "      <td>2021JJ00</td>\n",
       "    </tr>\n",
       "    <tr>\n",
       "      <th>7000</th>\n",
       "      <td>5282789</td>\n",
       "      <td>GM000A</td>\n",
       "      <td>Impossible</td>\n",
       "      <td>NaN</td>\n",
       "      <td>GM0193</td>\n",
       "      <td>2021JJ00</td>\n",
       "    </tr>\n",
       "    <tr>\n",
       "      <th>7001</th>\n",
       "      <td>5282790</td>\n",
       "      <td>M000161</td>\n",
       "      <td>None</td>\n",
       "      <td>16.0</td>\n",
       "      <td>GM0193</td>\n",
       "      <td>2021JJ00</td>\n",
       "    </tr>\n",
       "    <tr>\n",
       "      <th>7002</th>\n",
       "      <td>5282791</td>\n",
       "      <td>M000106</td>\n",
       "      <td>None</td>\n",
       "      <td>78.0</td>\n",
       "      <td>GM0193</td>\n",
       "      <td>2021JJ00</td>\n",
       "    </tr>\n",
       "  </tbody>\n",
       "</table>\n",
       "<p>4907003 rows × 6 columns</p>\n",
       "</div>"
      ],
      "text/plain": [
       "           Id    Measure ValueAttribute  Value  RegioS  Perioden\n",
       "0      375789  M000352_3     Impossible    NaN  GM1680  1995JJ00\n",
       "1      375790       3000     Impossible    NaN  GM1680  1995JJ00\n",
       "2      375791       4000     Impossible    NaN  GM1680  1995JJ00\n",
       "3      375792    40000_1     Impossible    NaN  GM1680  1995JJ00\n",
       "4      375793    70200_1     Impossible    NaN  GM1680  1995JJ00\n",
       "...       ...        ...            ...    ...     ...       ...\n",
       "6998  5282787  A045820_3     Impossible    NaN  GM0193  2021JJ00\n",
       "6999  5282788  A045823_3     Impossible    NaN  GM0193  2021JJ00\n",
       "7000  5282789     GM000A     Impossible    NaN  GM0193  2021JJ00\n",
       "7001  5282790    M000161           None   16.0  GM0193  2021JJ00\n",
       "7002  5282791    M000106           None   78.0  GM0193  2021JJ00\n",
       "\n",
       "[4907003 rows x 6 columns]"
      ]
     },
     "execution_count": 68,
     "metadata": {},
     "output_type": "execute_result"
    }
   ],
   "source": [
    "cbs_kerncijfers"
   ]
  },
  {
   "cell_type": "code",
   "execution_count": 67,
   "metadata": {},
   "outputs": [],
   "source": [
    "# Ensure that we only select municipalities\n",
    "cbs_kerncijfers = cbs_kerncijfers[cbs_kerncijfers['RegioS'].str.contains('GM')]\n",
    "# Only select data from 2020 or 2021\n",
    "cbs_kerncijfers = cbs_kerncijfers[cbs_kerncijfers['Perioden'].str.contains('202')]\n",
    "\n",
    "# Add metadata for codes\n",
    "cbs_kerncijfers_meta = pd.merge(cbs_kerncijfers, codes, left_on=\"Measure\",right_on=\"Identifier\")"
   ]
  },
  {
   "cell_type": "code",
   "execution_count": 99,
   "metadata": {},
   "outputs": [],
   "source": [
    "# Pivot van wide naar long \n",
    "cbs_kerncijfers_meta_pivot = cbs_kerncijfers_meta.pivot(index=['RegioS','Perioden'],columns=['Identifier','Title','Description'],values='Value')"
   ]
  },
  {
   "cell_type": "code",
   "execution_count": 100,
   "metadata": {},
   "outputs": [],
   "source": [
    "cbs_kerncijfers_meta_pivot.to_csv('Data/CBS_kerncijfers_pivot.csv')"
   ]
  },
  {
   "cell_type": "markdown",
   "metadata": {},
   "source": [
    "# Geodata inlezen"
   ]
  },
  {
   "cell_type": "code",
   "execution_count": 62,
   "metadata": {},
   "outputs": [],
   "source": []
  },
  {
   "cell_type": "markdown",
   "metadata": {},
   "source": [
    "# Lezen en combineren data"
   ]
  },
  {
   "cell_type": "code",
   "execution_count": 4,
   "metadata": {},
   "outputs": [],
   "source": [
    "covid19_df = pd.read_csv('Data/COVID_19_cumulatief.csv')"
   ]
  },
  {
   "cell_type": "code",
   "execution_count": 26,
   "metadata": {},
   "outputs": [],
   "source": [
    "cbs_kerncijfers_meta_pivot = pd.read_csv('Data/CBS_kerncijfers_pivot.csv',header=[1])\n",
    "cbs_kerncijfers_meta_pivot = cbs_kerncijfers_meta_pivot.drop([0,1])"
   ]
  },
  {
   "cell_type": "code",
   "execution_count": 55,
   "metadata": {},
   "outputs": [
    {
     "data": {
      "text/plain": [
       "Index(['Bedrijfsmotorvoertuigen', 'Motorfietsen', 'Motorfietsen, relatief',\n",
       "       'Voertuigen met bromfietskenteken',\n",
       "       'Voertuigen met bromfietskenteken (%)', 'Totale weglengte',\n",
       "       'Gemeentelijke en waterschapswegen', 'Provinciale wegen', 'Rijkswegen',\n",
       "       'Afstand tot kinderdagverblijf',\n",
       "       'Aantal kinderdagverblijven binnen 3 km',\n",
       "       'Afstand tot grote supermarkt', 'Aantal grote supermarkten binnen 3 km',\n",
       "       'Afstand tot bibliotheek', 'Afstand tot bioscoop',\n",
       "       'Aantal bioscopen binnen 10 km', 'Afstand tot oprit hoofdverkeersweg',\n",
       "       'Totaal huishoudelijk afval', 'Huishoudelijk restafval',\n",
       "       'Grof huishoudelijk restafval', 'Gft-afval', 'Oud papier en karton',\n",
       "       'Verpakkingsglas', 'Textiel', 'Klein chemisch afval',\n",
       "       'Overig huishoudelijk afval', 'Totale oppervlakte.1', 'Land',\n",
       "       'Water totaal', 'Binnenwater', 'Buitenwater',\n",
       "       'Omgevingsadressendichtheid', 'Verkeersterrein', 'Bebouwd terrein',\n",
       "       'Semi-bebouwd terrein', 'Recreatieterrein', 'Agrarisch terrein',\n",
       "       'Bos en open natuurlijk terrein', 'Verkeersterrein.1',\n",
       "       'Bebouwd terrein.1', 'Semi-bebouwd terrein.1', 'Recreatieterrein.1',\n",
       "       'Agrarisch terrein.1', 'Bos en open natuurlijk terrein.1',\n",
       "       'Verkeersterrein.2', 'Bebouwd terrein.2', 'Semi-bebouwd terrein.2',\n",
       "       'Recreatieterrein.2', 'Agrarisch terrein.2',\n",
       "       'Bos en open natuurlijk terrein.2'],\n",
       "      dtype='object')"
      ]
     },
     "execution_count": 55,
     "metadata": {},
     "output_type": "execute_result"
    }
   ],
   "source": [
    "cbs_kerncijfers_meta_pivot.columns[200:250]"
   ]
  },
  {
   "cell_type": "code",
   "execution_count": 56,
   "metadata": {},
   "outputs": [],
   "source": [
    "cbs_kerncijfers_klein = cbs_kerncijfers_meta_pivot[['Title','Totale bevolking','Mannen','Vrouwen','Jonger dan 5 jaar.1',\n",
    "       '5 tot 10 jaar.1', '10 tot 15 jaar.1', '15 tot 20 jaar.1',\n",
    "       '20 tot 25 jaar.1', '25 tot 45 jaar.1', '45 tot 65 jaar.1',\n",
    "       '65 tot 80 jaar.1', '80 jaar of ouder.1','Nederlandse achtergrond.1',\n",
    "       'Totaal met migratieachtergrond.1', 'Westerse migratieachtergrond.1',\n",
    "       'Totaal niet-westerse migratieachtergrond.1', 'Marokko.1',\n",
    "       '(voormalige) Nederlandse Antillen, Aruba.1', 'Suriname.1', 'Turkije.1',\n",
    "       'Overig niet-westerse migratieachtergrond.1','Sterfte', 'Sterfte, relatief', 'Bevolkingsdichtheid',\n",
    "       'Woningdichtheid', 'Koopwoningen', 'Huurwoningen']]"
   ]
  },
  {
   "cell_type": "code",
   "execution_count": 57,
   "metadata": {},
   "outputs": [],
   "source": [
    "covid19_df_totalen = covid19_df[covid19_df['Date_of_report']=='2021-11-10 10:00:00']"
   ]
  },
  {
   "cell_type": "code",
   "execution_count": 58,
   "metadata": {},
   "outputs": [],
   "source": [
    "result_df_klein = covid19_df_totalen.merge(cbs_kerncijfers_klein,how='left',left_on='Municipality_code',right_on=('Title'))"
   ]
  },
  {
   "cell_type": "code",
   "execution_count": 60,
   "metadata": {},
   "outputs": [],
   "source": [
    "result_df_klein.dropna().to_csv('Data/Combi_df_klein.csv')"
   ]
  }
 ],
 "metadata": {
  "interpreter": {
   "hash": "2684d3a4e3ba2581909db606cacceb3e6dedb5542b19fd87711c8a2bcf72f2b0"
  },
  "kernelspec": {
   "display_name": "Python 3.9.7 64-bit ('softdev': conda)",
   "name": "python3"
  },
  "language_info": {
   "codemirror_mode": {
    "name": "ipython",
    "version": 3
   },
   "file_extension": ".py",
   "mimetype": "text/x-python",
   "name": "python",
   "nbconvert_exporter": "python",
   "pygments_lexer": "ipython3",
   "version": "3.9.7"
  },
  "orig_nbformat": 4
 },
 "nbformat": 4,
 "nbformat_minor": 2
}
