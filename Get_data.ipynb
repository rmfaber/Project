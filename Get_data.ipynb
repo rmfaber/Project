{
 "cells": [
  {
   "cell_type": "code",
   "execution_count": 9,
   "metadata": {},
   "outputs": [],
   "source": [
    "import pandas as pd\n",
    "import requests"
   ]
  },
  {
   "cell_type": "code",
   "execution_count": 4,
   "metadata": {},
   "outputs": [],
   "source": [
    "def get_data_cbs(data_url: str):\n",
    "    \"\"\"Function to retrieve open data from CBS\n",
    "\n",
    "    Parameters\n",
    "    ----------\n",
    "    data_url : string\n",
    "        The url that points to the dataset\n",
    "\n",
    "    Returns\n",
    "    -------\n",
    "    pd.DataFrame\n",
    "        Dataframe containing data retrieved from data_url\n",
    "    \"\"\"    \n",
    "    data = pd.DataFrame()\n",
    "    while data_url is not None:\n",
    "        r = requests.get(data_url).json()\n",
    "        data = data.append(pd.DataFrame(r['value']))\n",
    "\n",
    "        if '@odata.nextLink' in r:\n",
    "            data_url = r['@odata.nextLink']\n",
    "        else:\n",
    "            data_url = None\n",
    "    return data"
   ]
  },
  {
   "cell_type": "code",
   "execution_count": 7,
   "metadata": {},
   "outputs": [],
   "source": [
    "wijken_buurten = \"https://odata4.cbs.nl/CBS/83765NED/Observations\""
   ]
  },
  {
   "cell_type": "code",
   "execution_count": 10,
   "metadata": {},
   "outputs": [],
   "source": [
    "wijken_buurten_data = get_data_cbs(wijken_buurten)"
   ]
  },
  {
   "cell_type": "code",
   "execution_count": null,
   "metadata": {},
   "outputs": [],
   "source": []
  }
 ],
 "metadata": {
  "interpreter": {
   "hash": "2684d3a4e3ba2581909db606cacceb3e6dedb5542b19fd87711c8a2bcf72f2b0"
  },
  "kernelspec": {
   "display_name": "Python 3.10.0 64-bit ('softdev': conda)",
   "name": "python3"
  },
  "language_info": {
   "codemirror_mode": {
    "name": "ipython",
    "version": 3
   },
   "file_extension": ".py",
   "mimetype": "text/x-python",
   "name": "python",
   "nbconvert_exporter": "python",
   "pygments_lexer": "ipython3",
   "version": "3.9.7"
  },
  "orig_nbformat": 4
 },
 "nbformat": 4,
 "nbformat_minor": 2
}
