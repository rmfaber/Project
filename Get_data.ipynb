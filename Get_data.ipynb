{
 "cells": [
  {
   "cell_type": "code",
   "execution_count": 3,
   "metadata": {},
   "outputs": [],
   "source": [
    "import pandas as pd\n",
    "import requests"
   ]
  },
  {
   "cell_type": "code",
   "execution_count": 42,
   "metadata": {},
   "outputs": [],
   "source": [
    "def get_data(data_url: str, cbs = False):\n",
    "    \"\"\"Function to retrieve datasets from the internet\n",
    "\n",
    "    Parameters\n",
    "    ----------\n",
    "    data_url : string\n",
    "        The url that points to the dataset\n",
    "\n",
    "    cbs: bool\n",
    "        Whether the data is hosted by CBS\n",
    "\n",
    "    Returns\n",
    "    -------\n",
    "    pd.DataFrame\n",
    "        Dataframe containing data retrieved from data_url\n",
    "    \"\"\"    \n",
    "    data = pd.DataFrame()\n",
    "    if cbs:\n",
    "        while data_url:\n",
    "            r = requests.get(data_url).json()\n",
    "            data = data.append(pd.DataFrame(r['value']))\n",
    "            \n",
    "            if '@odata.nextLink' in r:\n",
    "                data_url = r['@odata.nextLink']\n",
    "            else:\n",
    "                data_url = None\n",
    "    else:\n",
    "        r = requests.get(data_url).json()\n",
    "        data = data.append(pd.DataFrame(r))\n",
    "    return data"
   ]
  },
  {
   "cell_type": "code",
   "execution_count": 22,
   "metadata": {},
   "outputs": [],
   "source": [
    "covid19_link = 'https://data.rivm.nl/covid-19/COVID-19_aantallen_gemeente_cumulatief.json'\n",
    "cbs_link = \"https://beta-odata4.cbs.nl/CBS/70072ned\"\n"
   ]
  },
  {
   "cell_type": "code",
   "execution_count": 51,
   "metadata": {},
   "outputs": [],
   "source": [
    "covid19_df = get_data(covid19_link)"
   ]
  },
  {
   "cell_type": "code",
   "execution_count": 67,
   "metadata": {},
   "outputs": [],
   "source": [
    "cbs_kerncijfers = get_data(f\"{cbs_link}/Observations\", cbs=True)"
   ]
  },
  {
   "cell_type": "code",
   "execution_count": 72,
   "metadata": {},
   "outputs": [],
   "source": [
    "cbs_kerncijfers = cbs_kerncijfers[cbs_kerncijfers['RegioS'].str.contains('GM')]\n",
    "cbs_kerncijfers = cbs_kerncijfers[cbs_kerncijfers['Perioden'].str.contains('202')]"
   ]
  },
  {
   "cell_type": "code",
   "execution_count": 76,
   "metadata": {},
   "outputs": [],
   "source": [
    "cbs_kerncijfers_meta.to_csv('Data/CBS_kerncijfers.csv')"
   ]
  },
  {
   "cell_type": "code",
   "execution_count": 58,
   "metadata": {},
   "outputs": [],
   "source": [
    "groups = get_data(cbs_link + \"/MeasureGroups\", cbs = True)\n",
    "codes = get_data(cbs_link + \"/MeasureCodes\", cbs=True)"
   ]
  },
  {
   "cell_type": "code",
   "execution_count": 77,
   "metadata": {},
   "outputs": [],
   "source": [
    "cbs_kerncijfers_meta = pd.merge(cbs_kerncijfers, codes, left_on=\"Measure\",right_on=\"Identifier\")\n"
   ]
  },
  {
   "cell_type": "code",
   "execution_count": 79,
   "metadata": {},
   "outputs": [],
   "source": [
    "cbs_kerncijfers_meta.to_csv('Data/CBS_kerncijfers.csv')"
   ]
  },
  {
   "cell_type": "code",
   "execution_count": 93,
   "metadata": {},
   "outputs": [],
   "source": [
    "cbs_kerncijfers_meta = cbs_kerncijfers_meta[cbs_kerncijfers_meta['Perioden'].str.contains('2020')]"
   ]
  },
  {
   "cell_type": "code",
   "execution_count": 97,
   "metadata": {},
   "outputs": [
    {
     "data": {
      "text/html": [
       "<div>\n",
       "<style scoped>\n",
       "    .dataframe tbody tr th:only-of-type {\n",
       "        vertical-align: middle;\n",
       "    }\n",
       "\n",
       "    .dataframe tbody tr th {\n",
       "        vertical-align: top;\n",
       "    }\n",
       "\n",
       "    .dataframe thead th {\n",
       "        text-align: right;\n",
       "    }\n",
       "</style>\n",
       "<table border=\"1\" class=\"dataframe\">\n",
       "  <thead>\n",
       "    <tr style=\"text-align: right;\">\n",
       "      <th></th>\n",
       "      <th>Id</th>\n",
       "      <th>Measure</th>\n",
       "      <th>ValueAttribute</th>\n",
       "      <th>Value</th>\n",
       "      <th>RegioS</th>\n",
       "      <th>Perioden</th>\n",
       "      <th>Identifier</th>\n",
       "      <th>Index</th>\n",
       "      <th>Title</th>\n",
       "      <th>Description</th>\n",
       "      <th>MeasureGroupId</th>\n",
       "      <th>DataType</th>\n",
       "      <th>Unit</th>\n",
       "      <th>Decimals</th>\n",
       "      <th>PresentationType</th>\n",
       "    </tr>\n",
       "  </thead>\n",
       "  <tbody>\n",
       "    <tr>\n",
       "      <th>5848</th>\n",
       "      <td>597472</td>\n",
       "      <td>70200_1</td>\n",
       "      <td>None</td>\n",
       "      <td>561.0</td>\n",
       "      <td>GM0003</td>\n",
       "      <td>2020JJ00</td>\n",
       "      <td>70200_1</td>\n",
       "      <td>11</td>\n",
       "      <td>5 tot 10 jaar</td>\n",
       "      <td></td>\n",
       "      <td>10000_2</td>\n",
       "      <td>Double</td>\n",
       "      <td>aantal</td>\n",
       "      <td>0</td>\n",
       "      <td>Absolute</td>\n",
       "    </tr>\n",
       "    <tr>\n",
       "      <th>18862</th>\n",
       "      <td>597481</td>\n",
       "      <td>70200_2</td>\n",
       "      <td>None</td>\n",
       "      <td>4.8</td>\n",
       "      <td>GM0003</td>\n",
       "      <td>2020JJ00</td>\n",
       "      <td>70200_2</td>\n",
       "      <td>21</td>\n",
       "      <td>5 tot 10 jaar</td>\n",
       "      <td></td>\n",
       "      <td>10000_3</td>\n",
       "      <td>Double</td>\n",
       "      <td>%</td>\n",
       "      <td>1</td>\n",
       "      <td>Relative</td>\n",
       "    </tr>\n",
       "  </tbody>\n",
       "</table>\n",
       "</div>"
      ],
      "text/plain": [
       "           Id  Measure ValueAttribute  Value  RegioS  Perioden Identifier  \\\n",
       "5848   597472  70200_1           None  561.0  GM0003  2020JJ00    70200_1   \n",
       "18862  597481  70200_2           None    4.8  GM0003  2020JJ00    70200_2   \n",
       "\n",
       "       Index          Title Description MeasureGroupId DataType    Unit  \\\n",
       "5848      11  5 tot 10 jaar                    10000_2   Double  aantal   \n",
       "18862     21  5 tot 10 jaar                    10000_3   Double       %   \n",
       "\n",
       "       Decimals PresentationType  \n",
       "5848          0         Absolute  \n",
       "18862         1         Relative  "
      ]
     },
     "execution_count": 97,
     "metadata": {},
     "output_type": "execute_result"
    }
   ],
   "source": [
    "cbs_kerncijfers_meta[(cbs_kerncijfers_meta['RegioS']=='GM0003')&(cbs_kerncijfers_meta['Title']=='5 tot 10 jaar')]"
   ]
  },
  {
   "cell_type": "code",
   "execution_count": 96,
   "metadata": {},
   "outputs": [
    {
     "data": {
      "text/plain": [
       "1    106394\n",
       "2     20967\n",
       "3     12291\n",
       "4       723\n",
       "dtype: int64"
      ]
     },
     "execution_count": 96,
     "metadata": {},
     "output_type": "execute_result"
    }
   ],
   "source": [
    "cbs_kerncijfers_meta.groupby(['RegioS','Perioden','Title']).size().value_counts()"
   ]
  },
  {
   "cell_type": "code",
   "execution_count": 99,
   "metadata": {},
   "outputs": [],
   "source": [
    "cbs_kerncijfers_meta_pivot = cbs_kerncijfers_meta.pivot(index=['RegioS','Perioden'],columns=['Identifier','Title','Description'],values='Value')"
   ]
  },
  {
   "cell_type": "code",
   "execution_count": 100,
   "metadata": {},
   "outputs": [],
   "source": [
    "cbs_kerncijfers_meta_pivot.to_csv('Data/CBS_kerncijfers_pivot.csv')"
   ]
  }
 ],
 "metadata": {
  "interpreter": {
   "hash": "2684d3a4e3ba2581909db606cacceb3e6dedb5542b19fd87711c8a2bcf72f2b0"
  },
  "kernelspec": {
   "display_name": "Python 3.9.7 64-bit ('softdev': conda)",
   "name": "python3"
  },
  "language_info": {
   "codemirror_mode": {
    "name": "ipython",
    "version": 3
   },
   "file_extension": ".py",
   "mimetype": "text/x-python",
   "name": "python",
   "nbconvert_exporter": "python",
   "pygments_lexer": "ipython3",
   "version": "3.9.7"
  },
  "orig_nbformat": 4
 },
 "nbformat": 4,
 "nbformat_minor": 2
}
